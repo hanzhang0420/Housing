{
 "cells": [
  {
   "cell_type": "markdown",
   "metadata": {},
   "source": [
    "## Housing Price Prediction \n",
    "https://www.kaggle.com/c/house-prices-advanced-regression-techniques"
   ]
  },
  {
   "cell_type": "code",
   "execution_count": 4078,
   "metadata": {},
   "outputs": [],
   "source": [
    "import pandas as pd\n",
    "%matplotlib inline\n",
    "import numpy as np\n",
    "from sklearn.preprocessing import LabelEncoder\n",
    "from sklearn.decomposition import PCA\n",
    "import matplotlib.pyplot as plt"
   ]
  },
  {
   "cell_type": "code",
   "execution_count": 5015,
   "metadata": {},
   "outputs": [
    {
     "name": "stdout",
     "output_type": "stream",
     "text": [
      "size of trainning data 1460 81\n",
      "length of test 1459\n",
      "Index(['Id', 'MSSubClass', 'LotFrontage', 'LotArea', 'OverallQual',\n",
      "       'OverallCond', 'YearBuilt', 'YearRemodAdd', 'MasVnrArea', 'BsmtFinSF1',\n",
      "       'BsmtFinSF2', 'BsmtUnfSF', 'TotalBsmtSF', '1stFlrSF', '2ndFlrSF',\n",
      "       'LowQualFinSF', 'GrLivArea', 'BsmtFullBath', 'BsmtHalfBath', 'FullBath',\n",
      "       'HalfBath', 'BedroomAbvGr', 'KitchenAbvGr', 'TotRmsAbvGrd',\n",
      "       'Fireplaces', 'GarageYrBlt', 'GarageCars', 'GarageArea', 'WoodDeckSF',\n",
      "       'OpenPorchSF', 'EnclosedPorch', '3SsnPorch', 'ScreenPorch', 'PoolArea',\n",
      "       'MiscVal', 'MoSold', 'YrSold', 'SalePrice'],\n",
      "      dtype='object')\n",
      "Index(['MSZoning', 'Street', 'Alley', 'LotShape', 'LandContour', 'Utilities',\n",
      "       'LotConfig', 'LandSlope', 'Neighborhood', 'Condition1', 'Condition2',\n",
      "       'BldgType', 'HouseStyle', 'RoofStyle', 'RoofMatl', 'Exterior1st',\n",
      "       'Exterior2nd', 'MasVnrType', 'ExterQual', 'ExterCond', 'Foundation',\n",
      "       'BsmtQual', 'BsmtCond', 'BsmtExposure', 'BsmtFinType1', 'BsmtFinType2',\n",
      "       'Heating', 'HeatingQC', 'CentralAir', 'Electrical', 'KitchenQual',\n",
      "       'Functional', 'FireplaceQu', 'GarageType', 'GarageFinish', 'GarageQual',\n",
      "       'GarageCond', 'PavedDrive', 'PoolQC', 'Fence', 'MiscFeature',\n",
      "       'SaleType', 'SaleCondition'],\n",
      "      dtype='object')\n"
     ]
    }
   ],
   "source": [
    "train = pd.read_csv('train.csv') \n",
    "test = pd.read_csv('test.csv')\n",
    "rows,columns=train.shape\n",
    "print('size of trainning data', rows, columns)\n",
    "print('length of test', len(test))\n",
    "numeric_features = train.select_dtypes(include=[np.number])\n",
    "print(numeric_features.columns)\n",
    "categorical_features = train.select_dtypes(include=[np.object])\n",
    "print(categorical_features.columns)\n",
    "#train.head()"
   ]
  },
  {
   "cell_type": "code",
   "execution_count": 5016,
   "metadata": {},
   "outputs": [
    {
     "data": {
      "text/plain": [
       "(2919, 81)"
      ]
     },
     "execution_count": 5016,
     "metadata": {},
     "output_type": "execute_result"
    }
   ],
   "source": [
    "data=pd.concat([train,test], axis=0,sort=False).reset_index(drop=True) # combine training and test \n",
    "data.shape"
   ]
  },
  {
   "cell_type": "markdown",
   "metadata": {},
   "source": [
    "## Fill Missing Data"
   ]
  },
  {
   "cell_type": "code",
   "execution_count": 5017,
   "metadata": {},
   "outputs": [],
   "source": [
    "nan=pd.isnull(data).sum().sort_values(ascending=False).head(4)\n",
    "#nan.axes[0].tolist()#ind=(np.where(pd.isnull(data).sum()!=0))#col[ind]\n",
    "\n",
    "dropcol=[]\n",
    "for col in nan.axes[0]:\n",
    "    dropcol.append(col)"
   ]
  },
  {
   "cell_type": "code",
   "execution_count": 5018,
   "metadata": {},
   "outputs": [
    {
     "name": "stdout",
     "output_type": "stream",
     "text": [
      "2879 LowQualFinSF\n",
      "2882 3SsnPorch\n",
      "2663 ScreenPorch\n",
      "2906 PoolArea\n",
      "2816 MiscVal\n",
      "2907 Street\n",
      "2916 Utilities\n",
      "2778 LandSlope\n",
      "2889 Condition2\n",
      "2876 RoofMatl\n",
      "2874 Heating\n",
      "2723 CentralAir\n",
      "2671 Electrical\n",
      "2717 Functional\n",
      "2654 GarageCond\n",
      "2641 PavedDrive\n"
     ]
    }
   ],
   "source": [
    "# check too many NaNs or too many features are the same, can not distinguish\n",
    "\n",
    "for i in data.columns:   # if too many zeros\n",
    "    if data[i].dtype==np.int64:\n",
    "        if (data[i]==0).sum() >=2919*0.9:\n",
    "            print((data[i]==0).sum(),i)\n",
    "            dropcol.append(i)\n",
    "for col in data.columns:\n",
    "    if data[col].dtypes == np.object:\n",
    "        a=data.groupby(col).count()\n",
    "        #print(a.Id.max())\n",
    "        if a.Id.max()>=2919*0.9:  # which means 90% of the information are the same \n",
    "            print(a.Id.max(),col)\n",
    "            dropcol.append(col)"
   ]
  },
  {
   "cell_type": "code",
   "execution_count": 5019,
   "metadata": {},
   "outputs": [],
   "source": [
    "data.drop(columns=dropcol,axis=1,inplace=True)"
   ]
  },
  {
   "cell_type": "code",
   "execution_count": 5020,
   "metadata": {},
   "outputs": [
    {
     "data": {
      "text/plain": [
       "SalePrice       1459\n",
       "FireplaceQu     1420\n",
       "LotFrontage      486\n",
       "GarageQual       159\n",
       "GarageYrBlt      159\n",
       "GarageFinish     159\n",
       "GarageType       157\n",
       "BsmtCond          82\n",
       "BsmtExposure      82\n",
       "BsmtQual          81\n",
       "BsmtFinType2      80\n",
       "BsmtFinType1      79\n",
       "MasVnrType        24\n",
       "MasVnrArea        23\n",
       "MSZoning           4\n",
       "BsmtHalfBath       2\n",
       "BsmtFullBath       2\n",
       "Exterior2nd        1\n",
       "Exterior1st        1\n",
       "BsmtFinSF1         1\n",
       "BsmtUnfSF          1\n",
       "TotalBsmtSF        1\n",
       "BsmtFinSF2         1\n",
       "SaleType           1\n",
       "GarageArea         1\n",
       "KitchenQual        1\n",
       "GarageCars         1\n",
       "dtype: int64"
      ]
     },
     "execution_count": 5020,
     "metadata": {},
     "output_type": "execute_result"
    }
   ],
   "source": [
    "pd.isnull(data).sum().sort_values(ascending=False).head(27)"
   ]
  },
  {
   "cell_type": "code",
   "execution_count": 5021,
   "metadata": {},
   "outputs": [
    {
     "name": "stdout",
     "output_type": "stream",
     "text": [
      "MSZoning : ['RL' 'RM' 'C (all)' 'FV' 'RH' nan]\n",
      "LotShape : ['Reg' 'IR1' 'IR2' 'IR3']\n",
      "LandContour : ['Lvl' 'Bnk' 'Low' 'HLS']\n",
      "LotConfig : ['Inside' 'FR2' 'Corner' 'CulDSac' 'FR3']\n",
      "Neighborhood : ['CollgCr' 'Veenker' 'Crawfor' 'NoRidge' 'Mitchel' 'Somerst' 'NWAmes'\n",
      " 'OldTown' 'BrkSide' 'Sawyer' 'NridgHt' 'NAmes' 'SawyerW' 'IDOTRR'\n",
      " 'MeadowV' 'Edwards' 'Timber' 'Gilbert' 'StoneBr' 'ClearCr' 'NPkVill'\n",
      " 'Blmngtn' 'BrDale' 'SWISU' 'Blueste']\n",
      "Condition1 : ['Norm' 'Feedr' 'PosN' 'Artery' 'RRAe' 'RRNn' 'RRAn' 'PosA' 'RRNe']\n",
      "BldgType : ['1Fam' '2fmCon' 'Duplex' 'TwnhsE' 'Twnhs']\n",
      "HouseStyle : ['2Story' '1Story' '1.5Fin' '1.5Unf' 'SFoyer' 'SLvl' '2.5Unf' '2.5Fin']\n",
      "RoofStyle : ['Gable' 'Hip' 'Gambrel' 'Mansard' 'Flat' 'Shed']\n",
      "Exterior1st : ['VinylSd' 'MetalSd' 'Wd Sdng' 'HdBoard' 'BrkFace' 'WdShing' 'CemntBd'\n",
      " 'Plywood' 'AsbShng' 'Stucco' 'BrkComm' 'AsphShn' 'Stone' 'ImStucc'\n",
      " 'CBlock' nan]\n",
      "Exterior2nd : ['VinylSd' 'MetalSd' 'Wd Shng' 'HdBoard' 'Plywood' 'Wd Sdng' 'CmentBd'\n",
      " 'BrkFace' 'Stucco' 'AsbShng' 'Brk Cmn' 'ImStucc' 'AsphShn' 'Stone'\n",
      " 'Other' 'CBlock' nan]\n",
      "MasVnrType : ['BrkFace' 'None' 'Stone' 'BrkCmn' nan]\n",
      "ExterQual : ['Gd' 'TA' 'Ex' 'Fa']\n",
      "ExterCond : ['TA' 'Gd' 'Fa' 'Po' 'Ex']\n",
      "Foundation : ['PConc' 'CBlock' 'BrkTil' 'Wood' 'Slab' 'Stone']\n",
      "BsmtQual : ['Gd' 'TA' 'Ex' nan 'Fa']\n",
      "BsmtCond : ['TA' 'Gd' nan 'Fa' 'Po']\n",
      "BsmtExposure : ['No' 'Gd' 'Mn' 'Av' nan]\n",
      "BsmtFinType1 : ['GLQ' 'ALQ' 'Unf' 'Rec' 'BLQ' nan 'LwQ']\n",
      "BsmtFinType2 : ['Unf' 'BLQ' nan 'ALQ' 'Rec' 'LwQ' 'GLQ']\n",
      "HeatingQC : ['Ex' 'Gd' 'TA' 'Fa' 'Po']\n",
      "KitchenQual : ['Gd' 'TA' 'Ex' 'Fa' nan]\n",
      "FireplaceQu : [nan 'TA' 'Gd' 'Fa' 'Ex' 'Po']\n",
      "GarageType : ['Attchd' 'Detchd' 'BuiltIn' 'CarPort' nan 'Basment' '2Types']\n",
      "GarageFinish : ['RFn' 'Unf' 'Fin' nan]\n",
      "GarageQual : ['TA' 'Fa' 'Gd' nan 'Ex' 'Po']\n",
      "SaleType : ['WD' 'New' 'COD' 'ConLD' 'ConLI' 'CWD' 'ConLw' 'Con' 'Oth' nan]\n",
      "SaleCondition : ['Normal' 'Abnorml' 'Partial' 'AdjLand' 'Alloca' 'Family']\n"
     ]
    }
   ],
   "source": [
    "categorical_features=data.select_dtypes(include=[np.object])\n",
    "for c in categorical_features.columns:\n",
    "    print(c, ':', data[c].unique())"
   ]
  },
  {
   "cell_type": "code",
   "execution_count": 5082,
   "metadata": {},
   "outputs": [
    {
     "data": {
      "text/html": [
       "<div>\n",
       "<style scoped>\n",
       "    .dataframe tbody tr th:only-of-type {\n",
       "        vertical-align: middle;\n",
       "    }\n",
       "\n",
       "    .dataframe tbody tr th {\n",
       "        vertical-align: top;\n",
       "    }\n",
       "\n",
       "    .dataframe thead th {\n",
       "        text-align: right;\n",
       "    }\n",
       "</style>\n",
       "<table border=\"1\" class=\"dataframe\">\n",
       "  <thead>\n",
       "    <tr style=\"text-align: right;\">\n",
       "      <th></th>\n",
       "      <th>Id</th>\n",
       "      <th>MSSubClass</th>\n",
       "      <th>MSZoning</th>\n",
       "      <th>LotFrontage</th>\n",
       "      <th>LotArea</th>\n",
       "      <th>LotShape</th>\n",
       "      <th>LandContour</th>\n",
       "      <th>LotConfig</th>\n",
       "      <th>Neighborhood</th>\n",
       "      <th>Condition1</th>\n",
       "      <th>...</th>\n",
       "      <th>GarageArea</th>\n",
       "      <th>GarageQual</th>\n",
       "      <th>WoodDeckSF</th>\n",
       "      <th>OpenPorchSF</th>\n",
       "      <th>EnclosedPorch</th>\n",
       "      <th>MoSold</th>\n",
       "      <th>YrSold</th>\n",
       "      <th>SaleType</th>\n",
       "      <th>SaleCondition</th>\n",
       "      <th>SalePrice</th>\n",
       "    </tr>\n",
       "  </thead>\n",
       "  <tbody>\n",
       "    <tr>\n",
       "      <th>0</th>\n",
       "      <td>1</td>\n",
       "      <td>60</td>\n",
       "      <td>RL</td>\n",
       "      <td>65.0</td>\n",
       "      <td>8450</td>\n",
       "      <td>Reg</td>\n",
       "      <td>Lvl</td>\n",
       "      <td>Inside</td>\n",
       "      <td>CollgCr</td>\n",
       "      <td>Norm</td>\n",
       "      <td>...</td>\n",
       "      <td>548.0</td>\n",
       "      <td>TA</td>\n",
       "      <td>0</td>\n",
       "      <td>61</td>\n",
       "      <td>0</td>\n",
       "      <td>2</td>\n",
       "      <td>2008</td>\n",
       "      <td>WD</td>\n",
       "      <td>Normal</td>\n",
       "      <td>208500.0</td>\n",
       "    </tr>\n",
       "    <tr>\n",
       "      <th>1</th>\n",
       "      <td>2</td>\n",
       "      <td>20</td>\n",
       "      <td>RL</td>\n",
       "      <td>80.0</td>\n",
       "      <td>9600</td>\n",
       "      <td>Reg</td>\n",
       "      <td>Lvl</td>\n",
       "      <td>FR2</td>\n",
       "      <td>Veenker</td>\n",
       "      <td>Feedr</td>\n",
       "      <td>...</td>\n",
       "      <td>460.0</td>\n",
       "      <td>TA</td>\n",
       "      <td>298</td>\n",
       "      <td>0</td>\n",
       "      <td>0</td>\n",
       "      <td>5</td>\n",
       "      <td>2007</td>\n",
       "      <td>WD</td>\n",
       "      <td>Normal</td>\n",
       "      <td>181500.0</td>\n",
       "    </tr>\n",
       "    <tr>\n",
       "      <th>2</th>\n",
       "      <td>3</td>\n",
       "      <td>60</td>\n",
       "      <td>RL</td>\n",
       "      <td>68.0</td>\n",
       "      <td>11250</td>\n",
       "      <td>IR1</td>\n",
       "      <td>Lvl</td>\n",
       "      <td>Inside</td>\n",
       "      <td>CollgCr</td>\n",
       "      <td>Norm</td>\n",
       "      <td>...</td>\n",
       "      <td>608.0</td>\n",
       "      <td>TA</td>\n",
       "      <td>0</td>\n",
       "      <td>42</td>\n",
       "      <td>0</td>\n",
       "      <td>9</td>\n",
       "      <td>2008</td>\n",
       "      <td>WD</td>\n",
       "      <td>Normal</td>\n",
       "      <td>223500.0</td>\n",
       "    </tr>\n",
       "    <tr>\n",
       "      <th>3</th>\n",
       "      <td>4</td>\n",
       "      <td>70</td>\n",
       "      <td>RL</td>\n",
       "      <td>60.0</td>\n",
       "      <td>9550</td>\n",
       "      <td>IR1</td>\n",
       "      <td>Lvl</td>\n",
       "      <td>Corner</td>\n",
       "      <td>Crawfor</td>\n",
       "      <td>Norm</td>\n",
       "      <td>...</td>\n",
       "      <td>642.0</td>\n",
       "      <td>TA</td>\n",
       "      <td>0</td>\n",
       "      <td>35</td>\n",
       "      <td>272</td>\n",
       "      <td>2</td>\n",
       "      <td>2006</td>\n",
       "      <td>WD</td>\n",
       "      <td>Abnorml</td>\n",
       "      <td>140000.0</td>\n",
       "    </tr>\n",
       "    <tr>\n",
       "      <th>4</th>\n",
       "      <td>5</td>\n",
       "      <td>60</td>\n",
       "      <td>RL</td>\n",
       "      <td>84.0</td>\n",
       "      <td>14260</td>\n",
       "      <td>IR1</td>\n",
       "      <td>Lvl</td>\n",
       "      <td>FR2</td>\n",
       "      <td>NoRidge</td>\n",
       "      <td>Norm</td>\n",
       "      <td>...</td>\n",
       "      <td>836.0</td>\n",
       "      <td>TA</td>\n",
       "      <td>192</td>\n",
       "      <td>84</td>\n",
       "      <td>0</td>\n",
       "      <td>12</td>\n",
       "      <td>2008</td>\n",
       "      <td>WD</td>\n",
       "      <td>Normal</td>\n",
       "      <td>250000.0</td>\n",
       "    </tr>\n",
       "  </tbody>\n",
       "</table>\n",
       "<p>5 rows × 61 columns</p>\n",
       "</div>"
      ],
      "text/plain": [
       "   Id  MSSubClass MSZoning  LotFrontage  LotArea LotShape LandContour  \\\n",
       "0   1          60       RL         65.0     8450      Reg         Lvl   \n",
       "1   2          20       RL         80.0     9600      Reg         Lvl   \n",
       "2   3          60       RL         68.0    11250      IR1         Lvl   \n",
       "3   4          70       RL         60.0     9550      IR1         Lvl   \n",
       "4   5          60       RL         84.0    14260      IR1         Lvl   \n",
       "\n",
       "  LotConfig Neighborhood Condition1    ...    GarageArea GarageQual  \\\n",
       "0    Inside      CollgCr       Norm    ...         548.0         TA   \n",
       "1       FR2      Veenker      Feedr    ...         460.0         TA   \n",
       "2    Inside      CollgCr       Norm    ...         608.0         TA   \n",
       "3    Corner      Crawfor       Norm    ...         642.0         TA   \n",
       "4       FR2      NoRidge       Norm    ...         836.0         TA   \n",
       "\n",
       "   WoodDeckSF  OpenPorchSF  EnclosedPorch  MoSold YrSold SaleType  \\\n",
       "0           0           61              0       2   2008       WD   \n",
       "1         298            0              0       5   2007       WD   \n",
       "2           0           42              0       9   2008       WD   \n",
       "3           0           35            272       2   2006       WD   \n",
       "4         192           84              0      12   2008       WD   \n",
       "\n",
       "  SaleCondition SalePrice  \n",
       "0        Normal  208500.0  \n",
       "1        Normal  181500.0  \n",
       "2        Normal  223500.0  \n",
       "3       Abnorml  140000.0  \n",
       "4        Normal  250000.0  \n",
       "\n",
       "[5 rows x 61 columns]"
      ]
     },
     "execution_count": 5082,
     "metadata": {},
     "output_type": "execute_result"
    }
   ],
   "source": [
    "data_loc=data.copy()\n",
    "data_loc.head()"
   ]
  },
  {
   "cell_type": "markdown",
   "metadata": {},
   "source": [
    "## Feature Engineer"
   ]
  },
  {
   "cell_type": "code",
   "execution_count": 5083,
   "metadata": {},
   "outputs": [],
   "source": [
    "# Category features\n",
    "for col in ('GarageFinish','GarageType','BsmtExposure','BsmtQual','BsmtFinType1',\\\n",
    "          'BsmtFinType2','MasVnrType', 'MSZoning','KitchenQual','Exterior1st','Exterior2nd','FireplaceQu',\\\n",
    "           'GarageQual','BsmtCond','SaleType'):\n",
    "    data_loc[col] = data_loc[col].fillna('None')\n",
    "# Numeric features        \n",
    "for col in ('BsmtFullBath','BsmtHalfBath', 'BsmtUnfSF', 'BsmtFinSF2','BsmtFinSF1','GarageCars',\\\n",
    "           'GarageArea','MasVnrArea','TotalBsmtSF'):\n",
    "    data_loc[col] = data_loc[col].fillna(0)   \n",
    "\n",
    "#col=data.columns\n",
    "data_loc.GarageYrBlt.fillna(2100,inplace=True)\n",
    "data_loc[\"LotFrontage\"] = data.groupby(\"Neighborhood\")[\"LotFrontage\"].transform(\\\n",
    "    lambda x: x.fillna(x.median()))\n"
   ]
  },
  {
   "cell_type": "code",
   "execution_count": 5084,
   "metadata": {},
   "outputs": [
    {
     "data": {
      "text/plain": [
       "SalePrice       1459\n",
       "BsmtFinType2       0\n",
       "BsmtFinType1       0\n",
       "BsmtExposure       0\n",
       "BsmtCond           0\n",
       "dtype: int64"
      ]
     },
     "execution_count": 5084,
     "metadata": {},
     "output_type": "execute_result"
    }
   ],
   "source": [
    "pd.isnull(data_loc).sum().sort_values(ascending=False).head(5)"
   ]
  },
  {
   "cell_type": "code",
   "execution_count": 5085,
   "metadata": {},
   "outputs": [],
   "source": [
    "#create new feature      try to include category features into numeric features\n",
    "data_loc['BsmtBath']=(data_loc.BsmtFullBath+0.5*data_loc.BsmtHalfBath)\n",
    "data_loc['AbvGr']=data_loc.BedroomAbvGr+data_loc.KitchenAbvGr  \n",
    " \n",
    "data_loc['Age']=(data_loc.YrSold+data_loc.MoSold/12.0)-data_loc.YearBuilt #-\n",
    "data_loc['Bath']=(data_loc.FullBath+0.5*data_loc.HalfBath)\n",
    "     \n",
    "data_loc['Lot']=(data_loc.LotFrontage+data_loc.LotArea) \n",
    "\n",
    "codes = {'GLQ':6, 'ALQ':5, 'BLQ':4, 'Rec':3,'LwQ':2,'Unf':1}\n",
    "data_loc['BsmtFinType1N'] = data_loc['BsmtFinType1'].map(codes)\n",
    "data_loc['BsmtFinType1N'].fillna(0,inplace=True)\n",
    "data_loc['BsmtSF1']=data_loc['BsmtFinType1N']*data_loc['BsmtFinSF1']\n",
    "\n",
    "codes = {'GLQ':6, 'ALQ':5, 'BLQ':4, 'Rec':3,'LwQ':2,'Unf':1}\n",
    "data_loc['BsmtFinType2N'] = data_loc['BsmtFinType2'].map(codes)\n",
    "data_loc['BsmtFinType2N'].fillna(0,inplace=True)\n",
    "\n",
    "data_loc['BsmtSF2']=data_loc['BsmtFinType2N']*data_loc['BsmtFinSF2']\n",
    "#data_loc['SF']=data_loc['BsmtSF2']*data_loc['BsmtSF1']"
   ]
  },
  {
   "cell_type": "code",
   "execution_count": 5086,
   "metadata": {},
   "outputs": [],
   "source": [
    "data_loc['FlrSF']=data_loc['1stFlrSF']+data_loc['2ndFlrSF']"
   ]
  },
  {
   "cell_type": "code",
   "execution_count": 5087,
   "metadata": {},
   "outputs": [],
   "source": [
    "train[[\"MasVnrType\", \"SalePrice\"]].groupby(['MasVnrType'], as_index=False).agg(['mean', 'count'])\n",
    "#MasVnr\n",
    "codes = {'Stone':4, 'BrkFace':3, 'None':2, 'BrkCmn':1}\n",
    "data_loc['MasVnrTypeN'] = data_loc['MasVnrType'].map(codes)\n",
    "\n",
    "data_loc['MasVnr']=data_loc['MasVnrTypeN']*data_loc['MasVnrArea']"
   ]
  },
  {
   "cell_type": "code",
   "execution_count": 5088,
   "metadata": {},
   "outputs": [],
   "source": [
    "dropcol2=['YrSold','MoSold','YearBuilt','BsmtFinType1','BsmtFinSF1',\\\n",
    "                    'BsmtFullBath','BsmtHalfBath','BedroomAbvGr',\\\n",
    "                      'KitchenAbvGr','MasVnrType','MasVnrArea','LotFrontage','LotArea','Id',\\\n",
    "           'BsmtFinType1N','MasVnrTypeN','1stFlrSF','2ndFlrSF','BsmtFinType2','BsmtFinSF2',\\\n",
    "          'BsmtFinType2N','FullBath','HalfBath']   "
   ]
  },
  {
   "cell_type": "markdown",
   "metadata": {},
   "source": [
    "## Drop columns"
   ]
  },
  {
   "cell_type": "code",
   "execution_count": 5089,
   "metadata": {},
   "outputs": [
    {
     "data": {
      "text/plain": [
       "(2919, 73)"
      ]
     },
     "execution_count": 5089,
     "metadata": {},
     "output_type": "execute_result"
    }
   ],
   "source": [
    "data_loc.shape "
   ]
  },
  {
   "cell_type": "code",
   "execution_count": 5090,
   "metadata": {},
   "outputs": [
    {
     "data": {
      "text/plain": [
       "SalePrice       1459\n",
       "MasVnr             0\n",
       "YearRemodAdd       0\n",
       "BsmtUnfSF          0\n",
       "BsmtExposure       0\n",
       "dtype: int64"
      ]
     },
     "execution_count": 5090,
     "metadata": {},
     "output_type": "execute_result"
    }
   ],
   "source": [
    "#too many NaNs or too much same values e.g., Heating 1428 are using GasA no big difference\n",
    "data_loc.drop(columns=dropcol2,axis=1,inplace=True)\n",
    "pd.isnull(data_loc).sum().sort_values(ascending=False).head()"
   ]
  },
  {
   "cell_type": "code",
   "execution_count": 5091,
   "metadata": {},
   "outputs": [
    {
     "data": {
      "text/html": [
       "<div>\n",
       "<style scoped>\n",
       "    .dataframe tbody tr th:only-of-type {\n",
       "        vertical-align: middle;\n",
       "    }\n",
       "\n",
       "    .dataframe tbody tr th {\n",
       "        vertical-align: top;\n",
       "    }\n",
       "\n",
       "    .dataframe thead th {\n",
       "        text-align: right;\n",
       "    }\n",
       "</style>\n",
       "<table border=\"1\" class=\"dataframe\">\n",
       "  <thead>\n",
       "    <tr style=\"text-align: right;\">\n",
       "      <th></th>\n",
       "      <th>MSSubClass</th>\n",
       "      <th>MSZoning</th>\n",
       "      <th>LotShape</th>\n",
       "      <th>LandContour</th>\n",
       "      <th>LotConfig</th>\n",
       "      <th>Neighborhood</th>\n",
       "      <th>Condition1</th>\n",
       "      <th>BldgType</th>\n",
       "      <th>HouseStyle</th>\n",
       "      <th>OverallQual</th>\n",
       "      <th>...</th>\n",
       "      <th>SalePrice</th>\n",
       "      <th>BsmtBath</th>\n",
       "      <th>AbvGr</th>\n",
       "      <th>Age</th>\n",
       "      <th>Bath</th>\n",
       "      <th>Lot</th>\n",
       "      <th>BsmtSF1</th>\n",
       "      <th>BsmtSF2</th>\n",
       "      <th>FlrSF</th>\n",
       "      <th>MasVnr</th>\n",
       "    </tr>\n",
       "  </thead>\n",
       "  <tbody>\n",
       "    <tr>\n",
       "      <th>0</th>\n",
       "      <td>60</td>\n",
       "      <td>RL</td>\n",
       "      <td>Reg</td>\n",
       "      <td>Lvl</td>\n",
       "      <td>Inside</td>\n",
       "      <td>CollgCr</td>\n",
       "      <td>Norm</td>\n",
       "      <td>1Fam</td>\n",
       "      <td>2Story</td>\n",
       "      <td>7</td>\n",
       "      <td>...</td>\n",
       "      <td>208500.0</td>\n",
       "      <td>1.0</td>\n",
       "      <td>4</td>\n",
       "      <td>5.166667</td>\n",
       "      <td>2.5</td>\n",
       "      <td>8515.0</td>\n",
       "      <td>4236.0</td>\n",
       "      <td>0.0</td>\n",
       "      <td>1710</td>\n",
       "      <td>588.0</td>\n",
       "    </tr>\n",
       "    <tr>\n",
       "      <th>1</th>\n",
       "      <td>20</td>\n",
       "      <td>RL</td>\n",
       "      <td>Reg</td>\n",
       "      <td>Lvl</td>\n",
       "      <td>FR2</td>\n",
       "      <td>Veenker</td>\n",
       "      <td>Feedr</td>\n",
       "      <td>1Fam</td>\n",
       "      <td>1Story</td>\n",
       "      <td>6</td>\n",
       "      <td>...</td>\n",
       "      <td>181500.0</td>\n",
       "      <td>0.5</td>\n",
       "      <td>4</td>\n",
       "      <td>31.416667</td>\n",
       "      <td>2.0</td>\n",
       "      <td>9680.0</td>\n",
       "      <td>4890.0</td>\n",
       "      <td>0.0</td>\n",
       "      <td>1262</td>\n",
       "      <td>0.0</td>\n",
       "    </tr>\n",
       "    <tr>\n",
       "      <th>2</th>\n",
       "      <td>60</td>\n",
       "      <td>RL</td>\n",
       "      <td>IR1</td>\n",
       "      <td>Lvl</td>\n",
       "      <td>Inside</td>\n",
       "      <td>CollgCr</td>\n",
       "      <td>Norm</td>\n",
       "      <td>1Fam</td>\n",
       "      <td>2Story</td>\n",
       "      <td>7</td>\n",
       "      <td>...</td>\n",
       "      <td>223500.0</td>\n",
       "      <td>1.0</td>\n",
       "      <td>4</td>\n",
       "      <td>7.750000</td>\n",
       "      <td>2.5</td>\n",
       "      <td>11318.0</td>\n",
       "      <td>2916.0</td>\n",
       "      <td>0.0</td>\n",
       "      <td>1786</td>\n",
       "      <td>486.0</td>\n",
       "    </tr>\n",
       "    <tr>\n",
       "      <th>3</th>\n",
       "      <td>70</td>\n",
       "      <td>RL</td>\n",
       "      <td>IR1</td>\n",
       "      <td>Lvl</td>\n",
       "      <td>Corner</td>\n",
       "      <td>Crawfor</td>\n",
       "      <td>Norm</td>\n",
       "      <td>1Fam</td>\n",
       "      <td>2Story</td>\n",
       "      <td>7</td>\n",
       "      <td>...</td>\n",
       "      <td>140000.0</td>\n",
       "      <td>1.0</td>\n",
       "      <td>4</td>\n",
       "      <td>91.166667</td>\n",
       "      <td>1.0</td>\n",
       "      <td>9610.0</td>\n",
       "      <td>1080.0</td>\n",
       "      <td>0.0</td>\n",
       "      <td>1717</td>\n",
       "      <td>0.0</td>\n",
       "    </tr>\n",
       "    <tr>\n",
       "      <th>4</th>\n",
       "      <td>60</td>\n",
       "      <td>RL</td>\n",
       "      <td>IR1</td>\n",
       "      <td>Lvl</td>\n",
       "      <td>FR2</td>\n",
       "      <td>NoRidge</td>\n",
       "      <td>Norm</td>\n",
       "      <td>1Fam</td>\n",
       "      <td>2Story</td>\n",
       "      <td>8</td>\n",
       "      <td>...</td>\n",
       "      <td>250000.0</td>\n",
       "      <td>1.0</td>\n",
       "      <td>5</td>\n",
       "      <td>9.000000</td>\n",
       "      <td>2.5</td>\n",
       "      <td>14344.0</td>\n",
       "      <td>3930.0</td>\n",
       "      <td>0.0</td>\n",
       "      <td>2198</td>\n",
       "      <td>1050.0</td>\n",
       "    </tr>\n",
       "  </tbody>\n",
       "</table>\n",
       "<p>5 rows × 50 columns</p>\n",
       "</div>"
      ],
      "text/plain": [
       "   MSSubClass MSZoning LotShape LandContour LotConfig Neighborhood Condition1  \\\n",
       "0          60       RL      Reg         Lvl    Inside      CollgCr       Norm   \n",
       "1          20       RL      Reg         Lvl       FR2      Veenker      Feedr   \n",
       "2          60       RL      IR1         Lvl    Inside      CollgCr       Norm   \n",
       "3          70       RL      IR1         Lvl    Corner      Crawfor       Norm   \n",
       "4          60       RL      IR1         Lvl       FR2      NoRidge       Norm   \n",
       "\n",
       "  BldgType HouseStyle  OverallQual   ...    SalePrice  BsmtBath AbvGr  \\\n",
       "0     1Fam     2Story            7   ...     208500.0       1.0     4   \n",
       "1     1Fam     1Story            6   ...     181500.0       0.5     4   \n",
       "2     1Fam     2Story            7   ...     223500.0       1.0     4   \n",
       "3     1Fam     2Story            7   ...     140000.0       1.0     4   \n",
       "4     1Fam     2Story            8   ...     250000.0       1.0     5   \n",
       "\n",
       "         Age Bath      Lot BsmtSF1 BsmtSF2 FlrSF  MasVnr  \n",
       "0   5.166667  2.5   8515.0  4236.0     0.0  1710   588.0  \n",
       "1  31.416667  2.0   9680.0  4890.0     0.0  1262     0.0  \n",
       "2   7.750000  2.5  11318.0  2916.0     0.0  1786   486.0  \n",
       "3  91.166667  1.0   9610.0  1080.0     0.0  1717     0.0  \n",
       "4   9.000000  2.5  14344.0  3930.0     0.0  2198  1050.0  \n",
       "\n",
       "[5 rows x 50 columns]"
      ]
     },
     "execution_count": 5091,
     "metadata": {},
     "output_type": "execute_result"
    }
   ],
   "source": [
    "def scale_minmax(col):\n",
    "    return (col - col.min()) / (col.max() - col.min())\n",
    "\n",
    "#for f in data_loc.select_dtypes(include=[np.number]).columns:\n",
    "#    data_loc[f]=scale_minmax(data_loc[f])\n",
    "data_loc.head()"
   ]
  },
  {
   "cell_type": "code",
   "execution_count": 5092,
   "metadata": {},
   "outputs": [],
   "source": [
    "train_loc=data_loc[:len(train)]\n",
    "#train['TotalBsmtSF'].min()"
   ]
  },
  {
   "cell_type": "markdown",
   "metadata": {},
   "source": [
    "## Distribution of SalePrice"
   ]
  },
  {
   "cell_type": "code",
   "execution_count": 5033,
   "metadata": {},
   "outputs": [
    {
     "name": "stderr",
     "output_type": "stream",
     "text": [
      "/Users/hanzhang/miniconda3/lib/python3.6/site-packages/matplotlib/axes/_axes.py:6462: UserWarning: The 'normed' kwarg is deprecated, and has been replaced by the 'density' kwarg.\n",
      "  warnings.warn(\"The 'normed' kwarg is deprecated, and has been \"\n"
     ]
    },
    {
     "data": {
      "image/png": "[encoded data removed]",
      "text/plain": [
       "<Figure size 432x288 with 1 Axes>"
      ]
     },
     "metadata": {},
     "output_type": "display_data"
    }
   ],
   "source": [
    "g = sb.distplot((train_loc[\"SalePrice\"]), color=\"m\", label=\"Skewness : %.2f  Kurtosis : %.2f\"\\\n",
    "                %((train_loc[\"SalePrice\"]).skew(), (train_loc[\"SalePrice\"]).kurt() ))\n",
    "g = g.legend(loc=\"best\")\n"
   ]
  },
  {
   "cell_type": "code",
   "execution_count": 5034,
   "metadata": {},
   "outputs": [],
   "source": [
    "#train_loc[\"SalePrice\"]=train_loc[\"SalePrice\"].map(lambda i: np.log10(i) if i > 0 else 0)\n",
    "\n",
    "#train_loc[\"SalePrice\"]=train_loc[\"SalePrice\"].map(lambda i: np.log(i) if i > 0 else 0)\n",
    "#from sklearn import preprocessing\n",
    "\n",
    "#train_loc[\"SalePriceN\"] = (train_loc[\"SalePrice\"])/train_loc[\"SalePrice\"].max()\n",
    "\n",
    "#g = sb.distplot((train_loc[\"SalePrice\"]), color=\"m\", label=\"Skewness : %.2f  Kurtosis : %.2f\"\\\n",
    "#                %((train_loc[\"SalePrice\"]).skew(), (train_loc[\"SalePrice\"]).kurt() ))\n",
    "#g = g.legend(loc=\"best\")"
   ]
  },
  {
   "cell_type": "code",
   "execution_count": 5035,
   "metadata": {},
   "outputs": [],
   "source": []
  },
  {
   "cell_type": "markdown",
   "metadata": {},
   "source": [
    "## Check the correlation of the numeric features\n"
   ]
  },
  {
   "cell_type": "code",
   "execution_count": 5093,
   "metadata": {},
   "outputs": [
    {
     "data": {
      "text/plain": [
       "Index(['MSSubClass', 'OverallQual', 'OverallCond', 'YearRemodAdd', 'BsmtUnfSF',\n",
       "       'TotalBsmtSF', 'GrLivArea', 'TotRmsAbvGrd', 'Fireplaces', 'GarageYrBlt',\n",
       "       'GarageCars', 'GarageArea', 'WoodDeckSF', 'OpenPorchSF',\n",
       "       'EnclosedPorch', 'SalePrice', 'BsmtBath', 'AbvGr', 'Age', 'Bath', 'Lot',\n",
       "       'BsmtSF1', 'BsmtSF2', 'FlrSF', 'MasVnr'],\n",
       "      dtype='object')"
      ]
     },
     "execution_count": 5093,
     "metadata": {},
     "output_type": "execute_result"
    }
   ],
   "source": [
    "#data_loc2=data_loc.drop(['SalePrice'], axis=1, inplace=True)\n",
    "data_loc.select_dtypes(include=[np.number]).columns"
   ]
  },
  {
   "cell_type": "code",
   "execution_count": 5094,
   "metadata": {},
   "outputs": [
    {
     "data": {
      "text/plain": [
       "(1458, 50)"
      ]
     },
     "execution_count": 5094,
     "metadata": {},
     "output_type": "execute_result"
    }
   ],
   "source": [
    "#train_loc.loc[train_loc.GrLivArea > 4000] \n",
    "# drop two out liars\n",
    "#train_loc=data_loc[:len(train)]\n",
    "\n",
    "train_loc.drop(train.index[[523,1298]], inplace=True,axis=0)\n",
    "data_loc.drop(data.index[[523,1298]], inplace=True,axis=0)\n",
    "#ax[0,1].scatter(train_loc['GrLivArea'], train_loc['SalePrice'])\n",
    "#plt.ylabel('SalePrice', fontsize=13)\n",
    "#plt.xlabel('GrLivArea', fontsize=13)\n",
    "\n",
    "train_loc.shape"
   ]
  },
  {
   "cell_type": "code",
   "execution_count": 5095,
   "metadata": {},
   "outputs": [],
   "source": [
    "data_loc=data_loc.reset_index(drop=True)\n",
    "train_loc=train_loc.reset_index(drop=True)\n"
   ]
  },
  {
   "cell_type": "code",
   "execution_count": 5096,
   "metadata": {},
   "outputs": [],
   "source": [
    "data_cat = data_loc.select_dtypes(include=[np.object])"
   ]
  },
  {
   "cell_type": "code",
   "execution_count": 5097,
   "metadata": {},
   "outputs": [
    {
     "data": {
      "text/plain": [
       "SalePrice        1.000000\n",
       "OverallQual      0.795774\n",
       "FlrSF            0.744063\n",
       "GrLivArea        0.734968\n",
       "TotalBsmtSF      0.651153\n",
       "GarageCars       0.641047\n",
       "GarageArea       0.629217\n",
       "Bath             0.599932\n",
       "TotRmsAbvGrd     0.537769\n",
       "Age              0.523785\n",
       "MasVnr           0.509898\n",
       "YearRemodAdd     0.507717\n",
       "BsmtSF1          0.485844\n",
       "Fireplaces       0.469862\n",
       "WoodDeckSF       0.324758\n",
       "OpenPorchSF      0.321142\n",
       "Lot              0.268795\n",
       "BsmtBath         0.226254\n",
       "BsmtUnfSF        0.214460\n",
       "EnclosedPorch    0.128646\n",
       "GarageYrBlt      0.127861\n",
       "AbvGr            0.121067\n",
       "MSSubClass       0.084276\n",
       "OverallCond      0.077948\n",
       "BsmtSF2          0.005269\n",
       "Name: SalePrice, dtype: float64"
      ]
     },
     "execution_count": 5097,
     "metadata": {},
     "output_type": "execute_result"
    }
   ],
   "source": [
    "# correlation between numeric features \n",
    "corrmat = train_loc.corr()\n",
    "#f, ax = plt.subplots(figsize=(20, 20))\n",
    "#a=sb.heatmap(corrmat,annot=True)\n",
    "#fig = a.get_figure()\n",
    "#fig.savefig(\"corr.png\")\n",
    "\n",
    "# ranking \n",
    "a=corrmat.abs().sort_values('SalePrice', ascending=False).SalePrice[:]\n",
    "a"
   ]
  },
  {
   "cell_type": "code",
   "execution_count": 5040,
   "metadata": {},
   "outputs": [
    {
     "data": {
      "image/png": "[encoded data removed]",
      "text/plain": [
       "<Figure size 360x360 with 1 Axes>"
      ]
     },
     "metadata": {},
     "output_type": "display_data"
    }
   ],
   "source": [
    "g=sb.lmplot(x='GarageCars', y='GarageArea', truncate=True, data=train_loc, size=5)"
   ]
  },
  {
   "cell_type": "code",
   "execution_count": 5041,
   "metadata": {},
   "outputs": [
    {
     "data": {
      "image/png": "[encoded data removed]",
      "text/plain": [
       "<Figure size 360x360 with 1 Axes>"
      ]
     },
     "metadata": {},
     "output_type": "display_data"
    }
   ],
   "source": [
    "g=sb.lmplot(x='TotRmsAbvGrd', y='GrLivArea', truncate=True, data=train_loc, size=5)"
   ]
  },
  {
   "cell_type": "code",
   "execution_count": 5042,
   "metadata": {
    "scrolled": true
   },
   "outputs": [],
   "source": [
    "#g=sb.lmplot(x='1stFlrSF', y='TotalBsmtSF', truncate=True, data=train_loc, size=5)"
   ]
  },
  {
   "cell_type": "code",
   "execution_count": 5098,
   "metadata": {},
   "outputs": [
    {
     "data": {
      "text/plain": [
       "Index(['SalePrice', 'OverallQual', 'FlrSF', 'GrLivArea', 'TotalBsmtSF',\n",
       "       'GarageCars', 'GarageArea', 'Bath', 'TotRmsAbvGrd', 'Age', 'MasVnr',\n",
       "       'YearRemodAdd', 'BsmtSF1', 'Fireplaces', 'WoodDeckSF', 'OpenPorchSF',\n",
       "       'Lot', 'BsmtBath', 'BsmtUnfSF', 'EnclosedPorch', 'GarageYrBlt', 'AbvGr',\n",
       "       'MSSubClass', 'OverallCond', 'BsmtSF2'],\n",
       "      dtype='object')"
      ]
     },
     "execution_count": 5098,
     "metadata": {},
     "output_type": "execute_result"
    }
   ],
   "source": [
    "#a=train_loc.select_dtypes(include=[np.number]).columns\n",
    "a.axes[0]"
   ]
  },
  {
   "cell_type": "code",
   "execution_count": 5099,
   "metadata": {},
   "outputs": [],
   "source": [
    "# select_features with correlation greater than 0.3\n",
    "select_features=[]\n",
    "for col in a.axes[0]:\n",
    "    select_features.append(col)\n",
    "\n",
    "select_features.remove('MSSubClass')"
   ]
  },
  {
   "cell_type": "code",
   "execution_count": 5100,
   "metadata": {},
   "outputs": [],
   "source": [
    "def recat_feature(df,cols):\n",
    "    if df[cols] == 0:\n",
    "        return 0\n",
    "    else:\n",
    "        return 1"
   ]
  },
  {
   "cell_type": "code",
   "execution_count": 5101,
   "metadata": {},
   "outputs": [],
   "source": [
    "#for f in select_features:\n",
    "#    print(f,data_loc[f].skew(), data_loc[f].kurt())"
   ]
  },
  {
   "cell_type": "code",
   "execution_count": 5047,
   "metadata": {},
   "outputs": [],
   "source": [
    "#f, ax = plt.subplots(figsize=(20, 20))\n",
    "#a=sb.heatmap(data_loc[select_features].corr(),annot=True)\n",
    "#fig = a.get_figure()\n",
    "#fig.savefig(\"corr.png\")"
   ]
  },
  {
   "cell_type": "markdown",
   "metadata": {},
   "source": [
    "From the correlation map, some features are correlated, e.g., TotRmsAbvGrd & GrLiveArea, GarageArea & GarageCars"
   ]
  },
  {
   "cell_type": "code",
   "execution_count": 5048,
   "metadata": {},
   "outputs": [],
   "source": [
    "train_loc=data_loc[:len(train)-2]"
   ]
  },
  {
   "cell_type": "code",
   "execution_count": 5049,
   "metadata": {},
   "outputs": [
    {
     "data": {
      "image/png": "[encoded data removed]",
      "text/plain": [
       "<Figure size 432x288 with 4 Axes>"
      ]
     },
     "metadata": {},
     "output_type": "display_data"
    }
   ],
   "source": [
    "# check sereral parameters \n",
    "fig, ax = plt.subplots(2,2,sharey=True)\n",
    "ax[0,0].scatter(train_loc['EnclosedPorch'], train_loc['SalePrice'])\n",
    "plt.ylabel('SalePrice', fontsize=13)\n",
    "plt.xlabel('EnclosedPorch', fontsize=13)\n",
    "\n",
    "ax[0,1].scatter(train_loc['BsmtSF2'], train_loc['SalePrice'])\n",
    "plt.ylabel('SalePrice', fontsize=13)\n",
    "plt.xlabel('BsmtSF2', fontsize=13)\n",
    "\n",
    "ax[1,0].scatter(train_loc['MSSubClass'], train_loc['SalePrice'])\n",
    "plt.ylabel('SalePrice', fontsize=13)\n",
    "plt.xlabel('MSSubClass', fontsize=13)\n",
    "\n",
    "ax[1,1].scatter(data_loc['AbvGr'], data_loc['SalePrice'])\n",
    "plt.ylabel('SalePrice', fontsize=13)\n",
    "plt.xlabel('AbvGr', fontsize=13)\n",
    "plt.show()"
   ]
  },
  {
   "cell_type": "code",
   "execution_count": 5050,
   "metadata": {},
   "outputs": [],
   "source": [
    "#df_out,ind=remove_outlier(train_loc,'SalePrice')\n",
    "#(np.where(ind == False))\n",
    "#sb.pairplot(data[select_features], size = 2,kind ='scatter',diag_kind='kde')\n",
    "#pd.isnull(data_loc[select_features]).sum()\n",
    "\n",
    "#final.head()"
   ]
  },
  {
   "cell_type": "markdown",
   "metadata": {},
   "source": [
    "## Category Features"
   ]
  },
  {
   "cell_type": "code",
   "execution_count": 5102,
   "metadata": {},
   "outputs": [
    {
     "data": {
      "text/plain": [
       "Index(['MSZoning', 'LotShape', 'LandContour', 'LotConfig', 'Neighborhood',\n",
       "       'Condition1', 'BldgType', 'HouseStyle', 'RoofStyle', 'Exterior1st',\n",
       "       'Exterior2nd', 'ExterQual', 'ExterCond', 'Foundation', 'BsmtQual',\n",
       "       'BsmtCond', 'BsmtExposure', 'HeatingQC', 'KitchenQual', 'FireplaceQu',\n",
       "       'GarageType', 'GarageFinish', 'GarageQual', 'SaleType',\n",
       "       'SaleCondition'],\n",
       "      dtype='object')"
      ]
     },
     "execution_count": 5102,
     "metadata": {},
     "output_type": "execute_result"
    }
   ],
   "source": [
    "data_cat.columns"
   ]
  },
  {
   "cell_type": "code",
   "execution_count": 5103,
   "metadata": {},
   "outputs": [
    {
     "name": "stdout",
     "output_type": "stream",
     "text": [
      "MSZoning : ['RL' 'RM' 'C (all)' 'FV' 'RH' 'None']\n",
      "LotShape : ['Reg' 'IR1' 'IR2' 'IR3']\n",
      "LandContour : ['Lvl' 'Bnk' 'Low' 'HLS']\n",
      "LotConfig : ['Inside' 'FR2' 'Corner' 'CulDSac' 'FR3']\n",
      "Neighborhood : ['CollgCr' 'Veenker' 'Crawfor' 'NoRidge' 'Mitchel' 'Somerst' 'NWAmes'\n",
      " 'OldTown' 'BrkSide' 'Sawyer' 'NridgHt' 'NAmes' 'SawyerW' 'IDOTRR'\n",
      " 'MeadowV' 'Edwards' 'Timber' 'Gilbert' 'StoneBr' 'ClearCr' 'NPkVill'\n",
      " 'Blmngtn' 'BrDale' 'SWISU' 'Blueste']\n",
      "Condition1 : ['Norm' 'Feedr' 'PosN' 'Artery' 'RRAe' 'RRNn' 'RRAn' 'PosA' 'RRNe']\n",
      "BldgType : ['1Fam' '2fmCon' 'Duplex' 'TwnhsE' 'Twnhs']\n",
      "HouseStyle : ['2Story' '1Story' '1.5Fin' '1.5Unf' 'SFoyer' 'SLvl' '2.5Unf' '2.5Fin']\n",
      "RoofStyle : ['Gable' 'Hip' 'Gambrel' 'Mansard' 'Flat' 'Shed']\n",
      "Exterior1st : ['VinylSd' 'MetalSd' 'Wd Sdng' 'HdBoard' 'BrkFace' 'WdShing' 'CemntBd'\n",
      " 'Plywood' 'AsbShng' 'Stucco' 'BrkComm' 'AsphShn' 'Stone' 'ImStucc'\n",
      " 'CBlock' 'None']\n",
      "Exterior2nd : ['VinylSd' 'MetalSd' 'Wd Shng' 'HdBoard' 'Plywood' 'Wd Sdng' 'CmentBd'\n",
      " 'BrkFace' 'Stucco' 'AsbShng' 'Brk Cmn' 'ImStucc' 'AsphShn' 'Stone'\n",
      " 'Other' 'CBlock' 'None']\n",
      "ExterQual : ['Gd' 'TA' 'Ex' 'Fa']\n",
      "ExterCond : ['TA' 'Gd' 'Fa' 'Po' 'Ex']\n",
      "Foundation : ['PConc' 'CBlock' 'BrkTil' 'Wood' 'Slab' 'Stone']\n",
      "BsmtQual : ['Gd' 'TA' 'Ex' 'None' 'Fa']\n",
      "BsmtCond : ['TA' 'Gd' 'None' 'Fa' 'Po']\n",
      "BsmtExposure : ['No' 'Gd' 'Mn' 'Av' 'None']\n",
      "HeatingQC : ['Ex' 'Gd' 'TA' 'Fa' 'Po']\n",
      "KitchenQual : ['Gd' 'TA' 'Ex' 'Fa' 'None']\n",
      "FireplaceQu : ['None' 'TA' 'Gd' 'Fa' 'Ex' 'Po']\n",
      "GarageType : ['Attchd' 'Detchd' 'BuiltIn' 'CarPort' 'None' 'Basment' '2Types']\n",
      "GarageFinish : ['RFn' 'Unf' 'Fin' 'None']\n",
      "GarageQual : ['TA' 'Fa' 'Gd' 'None' 'Ex' 'Po']\n",
      "SaleType : ['WD' 'New' 'COD' 'ConLD' 'ConLI' 'CWD' 'ConLw' 'Con' 'Oth' 'None']\n",
      "SaleCondition : ['Normal' 'Abnorml' 'Partial' 'AdjLand' 'Alloca' 'Family']\n"
     ]
    }
   ],
   "source": [
    "for c in data_cat.columns:\n",
    "    print(c, ':', data_cat[c].unique())"
   ]
  },
  {
   "cell_type": "code",
   "execution_count": 5104,
   "metadata": {},
   "outputs": [
    {
     "data": {
      "text/html": [
       "<div>\n",
       "<style scoped>\n",
       "    .dataframe tbody tr th:only-of-type {\n",
       "        vertical-align: middle;\n",
       "    }\n",
       "\n",
       "    .dataframe tbody tr th {\n",
       "        vertical-align: top;\n",
       "    }\n",
       "\n",
       "    .dataframe thead tr th {\n",
       "        text-align: left;\n",
       "    }\n",
       "\n",
       "    .dataframe thead tr:last-of-type th {\n",
       "        text-align: right;\n",
       "    }\n",
       "</style>\n",
       "<table border=\"1\" class=\"dataframe\">\n",
       "  <thead>\n",
       "    <tr>\n",
       "      <th></th>\n",
       "      <th colspan=\"2\" halign=\"left\">SalePrice</th>\n",
       "    </tr>\n",
       "    <tr>\n",
       "      <th></th>\n",
       "      <th>mean</th>\n",
       "      <th>count</th>\n",
       "    </tr>\n",
       "    <tr>\n",
       "      <th>BsmtCond</th>\n",
       "      <th></th>\n",
       "      <th></th>\n",
       "    </tr>\n",
       "  </thead>\n",
       "  <tbody>\n",
       "    <tr>\n",
       "      <th>Fa</th>\n",
       "      <td>121809.533333</td>\n",
       "      <td>45</td>\n",
       "    </tr>\n",
       "    <tr>\n",
       "      <th>Gd</th>\n",
       "      <td>213599.907692</td>\n",
       "      <td>65</td>\n",
       "    </tr>\n",
       "    <tr>\n",
       "      <th>None</th>\n",
       "      <td>105652.891892</td>\n",
       "      <td>37</td>\n",
       "    </tr>\n",
       "    <tr>\n",
       "      <th>Po</th>\n",
       "      <td>64000.000000</td>\n",
       "      <td>2</td>\n",
       "    </tr>\n",
       "    <tr>\n",
       "      <th>TA</th>\n",
       "      <td>183649.821238</td>\n",
       "      <td>1309</td>\n",
       "    </tr>\n",
       "  </tbody>\n",
       "</table>\n",
       "</div>"
      ],
      "text/plain": [
       "              SalePrice      \n",
       "                   mean count\n",
       "BsmtCond                     \n",
       "Fa        121809.533333    45\n",
       "Gd        213599.907692    65\n",
       "None      105652.891892    37\n",
       "Po         64000.000000     2\n",
       "TA        183649.821238  1309"
      ]
     },
     "execution_count": 5104,
     "metadata": {},
     "output_type": "execute_result"
    }
   ],
   "source": [
    "#pd.isnull(data_loc).sum().sort_values(ascending=False).head(12)\n",
    "pd.options.mode.chained_assignment = None\n",
    "\n",
    "data_loc[['BsmtCond', \"SalePrice\"]].groupby(['BsmtCond']).agg(['mean', 'count'])"
   ]
  },
  {
   "cell_type": "code",
   "execution_count": 5105,
   "metadata": {},
   "outputs": [],
   "source": [
    "data_cat.Exterior2nd[data_cat.Exterior2nd == 'Other']\n",
    "data_cat.Exterior2nd[595]='Wother'"
   ]
  },
  {
   "cell_type": "code",
   "execution_count": 5106,
   "metadata": {},
   "outputs": [],
   "source": [
    "#encodeing \n",
    "from sklearn.preprocessing import LabelEncoder\n",
    "num = LabelEncoder()\n",
    "data_cat['Exterior1stN']=num.fit_transform(data_cat['Exterior1st'].astype('str'))\n",
    "data_cat['Exterior2ndN']=num.fit_transform(data_cat['Exterior2nd'].astype('str'))"
   ]
  },
  {
   "cell_type": "code",
   "execution_count": 5107,
   "metadata": {},
   "outputs": [],
   "source": [
    "#data_loc['SaleTypeN']=num.fit_transform(data_loc['SaleType'].astype('str'))\n",
    "#data_loc['SaleConditionN']=num.fit_transform(data_loc['SaleCondition'].astype('str'))"
   ]
  },
  {
   "cell_type": "code",
   "execution_count": 5108,
   "metadata": {},
   "outputs": [],
   "source": [
    "codes = {'Gd':4,'TA':3,'Ex':5,'Fa':2,'Po':1,'None':0}\n",
    "data_cat['ExterQualN'] =data_cat['ExterQual'].map(codes)\n",
    "data_cat['ExterCondN'] =data_cat['ExterCond'].map(codes)\n",
    "data_cat['HeatingQCN'] =data_cat['HeatingQC'].map(codes)\n",
    "data_cat['FireplaceQuN'] =data_cat['FireplaceQu'].map(codes)\n",
    "data_cat['KitchenQualN'] =data_cat['KitchenQual'].map(codes)\n",
    "\n",
    "#train_loc[['BsmtQual', \"SalePrice\"]].groupby(['BsmtQual']).agg(['mean', 'count'])\n",
    "codes = {'Ex':5,'Gd':4, 'TA':3, 'Fa':2,'Po':1,'None':0}\n",
    "data_cat['BsmtQualN'] = data_cat['BsmtQual'].map(codes)\n",
    "data_cat['BsmtCondN'] = data_cat['BsmtCond'].map(codes)\n",
    "\n",
    "codes = {'Ex':5,'Gd':4, 'TA':3, 'Fa':2,'Po':1,'None':0}\n",
    "data_cat['GarageQualN'] = data_cat['GarageQual'].map(codes)\n",
    "\n",
    "codes = {'Gd':4, 'Av':3, 'Mn':2, 'No':1,'None':0}\n",
    "data_cat['BsmtExposureN'] = data_cat['BsmtExposure'].map(codes)\n",
    "\n",
    "codes = {'Fin':3,'RFn':2,'Unf':1,'None':0}\n",
    "data_cat['GarageFinishN'] = data_cat['GarageFinish'].map(codes)\n"
   ]
  },
  {
   "cell_type": "code",
   "execution_count": 5109,
   "metadata": {},
   "outputs": [],
   "source": [
    "#Neighborhood\n",
    "codes={'Veenker':3, 'Crawfor':3, 'NoRidge':3, 'NridgHt':3,\\\n",
    "       'Gilbert':2, 'ClearCr':3,'CollgCr':2,'Somerst':3,'NAmes':2,'SawyerW':2,\\\n",
    "        'StoneBr':3, 'NPkVill':2,'Mitchel':2, 'NWAmes':2,\\\n",
    "       'Timber':3, 'Blmngtn':2,'SWISU':2, 'Blueste':1,'BrDale':1,'BrkSide':1,'Edwards':1,\\\n",
    "       'IDOTRR':1,'MeadowV':1,'OldTown':1, 'Sawyer':1}\n",
    "data_cat['NeighborhoodN'] = data_cat['Neighborhood'].map(codes)\n",
    "\n",
    "#MSzoning\n",
    "codes={'RL':3, 'RM':2, 'C (all)':1, 'FV':4, 'RH':2,'None':0}\n",
    "data_cat['MSZoningN'] = data_cat['MSZoning'].map(codes)\n",
    "\n",
    "#HouseStyle\n",
    "codes={'2Story':3, '1Story':2, '1.5Fin':1, '1.5Unf':1, 'SFoyer':1, 'SLvl':2, '2.5Unf':1,\n",
    "       '2.5Fin':3}\n",
    "data_cat['HouseStyleN'] = data_cat['HouseStyle'].map(codes)\n",
    "\n",
    "codes={'PConc':2, 'CBlock':1, 'BrkTil':1, 'Wood':1.5, 'Slab':1, 'Stone':2}\n",
    "data_cat['FoundationN'] = data_cat['Foundation'].map(codes)"
   ]
  },
  {
   "cell_type": "code",
   "execution_count": 5110,
   "metadata": {},
   "outputs": [],
   "source": [
    "train_loc[[\"SaleCondition\", \"SalePrice\"]].groupby(['SaleCondition'], as_index=False).mean().\\\n",
    "sort_values(by='SalePrice', ascending=False)\n",
    "\n",
    "codes={'Partial':5, 'Normal':4, 'Alloca':3, 'Family':2, 'Abnorml':1, 'AdjLand':0}\n",
    "data_cat['SaleConditionN'] = data_cat['SaleCondition'].map(codes)\n",
    "\n",
    "train_loc[[\"SaleType\", \"SalePrice\"]].groupby(['SaleType'], as_index=False).mean().\\\n",
    "sort_values(by='SalePrice', ascending=False)\n",
    "\n",
    "codes={'New':8, 'Con':7, 'CWD':6, 'ConLI':5, 'WD':4, 'COD':3,'ConLw':2,'ConLD':1,'Oth':0,'None':0}\n",
    "data_cat['SaleTypeN'] = data_cat['SaleType'].map(codes)\n",
    "\n",
    "#data_cat[[\"SaleType\", \"SalePrice\"]].groupby(['SaleType'], as_index=False).mean().\\\n",
    "#sort_values(by='SalePrice', ascending=False)"
   ]
  },
  {
   "cell_type": "code",
   "execution_count": 5111,
   "metadata": {},
   "outputs": [
    {
     "data": {
      "text/plain": [
       "Index(['Exterior1stN', 'Exterior2ndN', 'ExterQualN', 'ExterCondN',\n",
       "       'HeatingQCN', 'FireplaceQuN', 'KitchenQualN', 'BsmtQualN', 'BsmtCondN',\n",
       "       'GarageQualN', 'BsmtExposureN', 'GarageFinishN', 'NeighborhoodN',\n",
       "       'MSZoningN', 'HouseStyleN', 'SaleConditionN', 'SaleTypeN'],\n",
       "      dtype='object')"
      ]
     },
     "execution_count": 5111,
     "metadata": {},
     "output_type": "execute_result"
    }
   ],
   "source": [
    "data_cat.select_dtypes(include=[np.int]).columns"
   ]
  },
  {
   "cell_type": "code",
   "execution_count": 5112,
   "metadata": {},
   "outputs": [],
   "source": [
    "grade_cols=['ExterQualN','KitchenQualN','BsmtQualN','BsmtExposureN',\\\n",
    "            'FireplaceQuN','HeatingQCN','GarageFinishN','HouseStyleN','MSZoningN','NeighborhoodN',\\\n",
    "            'SaleTypeN','SaleConditionN','GarageQualN']"
   ]
  },
  {
   "cell_type": "code",
   "execution_count": 5113,
   "metadata": {},
   "outputs": [
    {
     "data": {
      "image/png": "[encoded data removed]",
      "text/plain": [
       "<Figure size 576x432 with 2 Axes>"
      ]
     },
     "metadata": {},
     "output_type": "display_data"
    }
   ],
   "source": [
    "f, ax = plt.subplots(figsize=(8, 6))\n",
    "a=sb.heatmap(data_cat[grade_cols].corr(),annot=True)"
   ]
  },
  {
   "cell_type": "code",
   "execution_count": 5114,
   "metadata": {},
   "outputs": [
    {
     "data": {
      "text/plain": [
       "ExterQualN        0\n",
       "KitchenQualN      0\n",
       "BsmtQualN         0\n",
       "BsmtExposureN     0\n",
       "FireplaceQuN      0\n",
       "HeatingQCN        0\n",
       "GarageFinishN     0\n",
       "HouseStyleN       0\n",
       "MSZoningN         0\n",
       "NeighborhoodN     0\n",
       "SaleTypeN         0\n",
       "SaleConditionN    0\n",
       "GarageQualN       0\n",
       "dtype: int64"
      ]
     },
     "execution_count": 5114,
     "metadata": {},
     "output_type": "execute_result"
    }
   ],
   "source": [
    "pd.isnull(data_cat[grade_cols]).sum()"
   ]
  },
  {
   "cell_type": "code",
   "execution_count": 5115,
   "metadata": {},
   "outputs": [],
   "source": [
    "#train_loc[[\"GarageFinish\", \"SalePrice\"]].groupby(['GarageFinish']).agg(['mean', 'count'])\n",
    "#train[[\"Exterior1st\", \"SalePrice\"]].groupby(['Exterior1st']).agg(['mean', 'count'])"
   ]
  },
  {
   "cell_type": "code",
   "execution_count": null,
   "metadata": {},
   "outputs": [],
   "source": []
  },
  {
   "cell_type": "code",
   "execution_count": 5116,
   "metadata": {},
   "outputs": [],
   "source": [
    "#train_loc[[\"SaleCondition\", \"SalePrice\"]].groupby(['SaleCondition'], as_index=False).mean().\\\n",
    "#sort_values(by='SalePrice', ascending=False)\n",
    "#train_loc[[\"SaleCondition\", \"ExterQualN\"]].groupby(['SaleCondition']).agg(['mean', 'count'])\n",
    "#sb.boxplot(x=\"SaleCondition\", y=\"SalePrice\", data=train_loc, palette=\"PRGn\")\n",
    "#for dummy \n",
    "\n",
    "cat=[ 'LotShape', 'LotConfig', \n",
    "       'RoofStyle',  'GarageType']\n",
    "\n",
    "#data_cat=pd.get_dummies(data_loc[cat],drop_first=True)\n",
    "#data_cat.tail()\n",
    "#data_cat.shape"
   ]
  },
  {
   "cell_type": "code",
   "execution_count": 5117,
   "metadata": {},
   "outputs": [],
   "source": [
    "#data_cat[grade_cols] data_loc[select_features],"
   ]
  },
  {
   "cell_type": "code",
   "execution_count": 5124,
   "metadata": {},
   "outputs": [],
   "source": [
    "data_final=pd.concat([data_loc[select_features],data_cat[grade_cols]], axis=1,sort=False).reset_index(drop=True)\n",
    "#data_final=numeric_features.drop('SalePrice',axis=1,inplace=True)data_loc[select_features]\n",
    "data_final.drop(['SalePrice'],axis=1,inplace=True)"
   ]
  },
  {
   "cell_type": "code",
   "execution_count": 5125,
   "metadata": {},
   "outputs": [
    {
     "data": {
      "text/plain": [
       "OverallQual       0\n",
       "FlrSF             0\n",
       "GrLivArea         0\n",
       "TotalBsmtSF       0\n",
       "GarageCars        0\n",
       "GarageArea        0\n",
       "Bath              0\n",
       "TotRmsAbvGrd      0\n",
       "Age               0\n",
       "MasVnr            0\n",
       "YearRemodAdd      0\n",
       "BsmtSF1           0\n",
       "Fireplaces        0\n",
       "WoodDeckSF        0\n",
       "OpenPorchSF       0\n",
       "Lot               0\n",
       "BsmtBath          0\n",
       "BsmtUnfSF         0\n",
       "EnclosedPorch     0\n",
       "GarageYrBlt       0\n",
       "AbvGr             0\n",
       "OverallCond       0\n",
       "BsmtSF2           0\n",
       "ExterQualN        0\n",
       "KitchenQualN      0\n",
       "BsmtQualN         0\n",
       "BsmtExposureN     0\n",
       "FireplaceQuN      0\n",
       "HeatingQCN        0\n",
       "GarageFinishN     0\n",
       "HouseStyleN       0\n",
       "MSZoningN         0\n",
       "NeighborhoodN     0\n",
       "SaleTypeN         0\n",
       "SaleConditionN    0\n",
       "GarageQualN       0\n",
       "dtype: int64"
      ]
     },
     "execution_count": 5125,
     "metadata": {},
     "output_type": "execute_result"
    }
   ],
   "source": [
    "data_final.tail()\n",
    "pd.isnull(data_final).sum()"
   ]
  },
  {
   "cell_type": "code",
   "execution_count": 5126,
   "metadata": {},
   "outputs": [],
   "source": [
    "X_train = data_final[:len(train_loc)]\n",
    "Xtest  = data_final[len(train_loc):]\n",
    "Y_train = train_loc['SalePrice']"
   ]
  },
  {
   "cell_type": "code",
   "execution_count": 5127,
   "metadata": {},
   "outputs": [
    {
     "data": {
      "text/plain": [
       "(1459, 36)"
      ]
     },
     "execution_count": 5127,
     "metadata": {},
     "output_type": "execute_result"
    }
   ],
   "source": [
    "Xtest.shape"
   ]
  },
  {
   "cell_type": "code",
   "execution_count": 5128,
   "metadata": {},
   "outputs": [],
   "source": [
    "#g = sb.distplot(Y_train, color=\"m\", label=\"Skewness : %.2f  Kurtosis : %.2f\"\\\n",
    "#                %((Y_train).skew(), (Y_train).kurt()))\n",
    "#g = g.legend(loc=\"best\")"
   ]
  },
  {
   "cell_type": "markdown",
   "metadata": {},
   "source": [
    "## Models\n",
    "\n",
    "Random Forest; Linear Regression; SVR; xgboost"
   ]
  },
  {
   "cell_type": "code",
   "execution_count": 5129,
   "metadata": {},
   "outputs": [
    {
     "name": "stdout",
     "output_type": "stream",
     "text": [
      "16755.52549086758\n"
     ]
    }
   ],
   "source": [
    "# random forest \n",
    "from sklearn.model_selection import train_test_split\n",
    "from sklearn.metrics import mean_absolute_error\n",
    "from sklearn.tree import DecisionTreeRegressor\n",
    "from sklearn.ensemble import RandomForestRegressor\n",
    "\n",
    "# split data into training and validation data, for both predictors and target\n",
    "# The split is based on a random number generator. Supplying a numeric value to\n",
    "# the random_state argument guarantees we get the same split every time we\n",
    "# run this script.\n",
    "train_X, val_X, train_y, val_y = train_test_split(X_train, Y_train,test_size=0.3)\n",
    "\n",
    "\n",
    "# Define model\n",
    "hz_model = RandomForestRegressor(n_estimators=200,random_state = 10)\n",
    "\n",
    "# Fit model\n",
    "hz_model.fit(train_X, train_y)\n",
    "\n",
    "predicted_home_prices = hz_model.predict(val_X)\n",
    "\n",
    "Y_pred = hz_model.predict(Xtest)\n",
    "print(mean_absolute_error((val_y), (predicted_home_prices)))\n"
   ]
  },
  {
   "cell_type": "code",
   "execution_count": null,
   "metadata": {},
   "outputs": [],
   "source": []
  },
  {
   "cell_type": "code",
   "execution_count": 5130,
   "metadata": {},
   "outputs": [
    {
     "data": {
      "image/png": "[encoded data removed]",
      "text/plain": [
       "<Figure size 432x288 with 1 Axes>"
      ]
     },
     "metadata": {},
     "output_type": "display_data"
    }
   ],
   "source": [
    "import matplotlib.pyplot as plt\n",
    "fig, ax = plt.subplots()\n",
    "ax.scatter((val_y), (predicted_home_prices), edgecolors=(0, 0, 0))\n",
    "#ax.scatter((val_y), (predicted_home_prices), edgecolors=(0, 0, 0))\n",
    "plt.show()"
   ]
  },
  {
   "cell_type": "code",
   "execution_count": 4481,
   "metadata": {},
   "outputs": [],
   "source": [
    "hz_model = RandomForestRegressor(n_estimators=200,random_state = 10)\n",
    "# Fit model\n",
    "hz_model.fit(X_train, Y_train)\n",
    "\n",
    "Y_pred = hz_model.predict(Xtest)"
   ]
  },
  {
   "cell_type": "code",
   "execution_count": 5131,
   "metadata": {},
   "outputs": [
    {
     "name": "stdout",
     "output_type": "stream",
     "text": [
      "Variable: OverallQual          Importance: 0.5821144695470651\n",
      "Variable: FlrSF                Importance: 0.10562099052384041\n",
      "Variable: GrLivArea            Importance: 0.045037645274667894\n",
      "Variable: BsmtSF1              Importance: 0.04066205485332257\n",
      "Variable: TotalBsmtSF          Importance: 0.039356200826797874\n",
      "Variable: Bath                 Importance: 0.02979804612346101\n",
      "Variable: Lot                  Importance: 0.02144187915218758\n",
      "Variable: GarageArea           Importance: 0.019790002982793712\n",
      "Variable: NeighborhoodN        Importance: 0.01191737881552209\n",
      "Variable: Age                  Importance: 0.009477922847983149\n",
      "Variable: MasVnr               Importance: 0.009393774191541578\n",
      "Variable: KitchenQualN         Importance: 0.008206188718880854\n",
      "Variable: YearRemodAdd         Importance: 0.00627688756424684\n",
      "Variable: BsmtQualN            Importance: 0.006150427127096006\n",
      "Variable: GarageFinishN        Importance: 0.006069654994648866\n",
      "Variable: BsmtUnfSF            Importance: 0.00563553196675309\n",
      "Variable: WoodDeckSF           Importance: 0.005599065381423164\n",
      "Variable: TotRmsAbvGrd         Importance: 0.005355353302452408\n",
      "Variable: ExterQualN           Importance: 0.005325776097229829\n",
      "Variable: OpenPorchSF          Importance: 0.004760608150725982\n",
      "Variable: GarageYrBlt          Importance: 0.004368289147452713\n",
      "Variable: GarageCars           Importance: 0.004297156526491915\n",
      "Variable: OverallCond          Importance: 0.0041038590435043525\n",
      "Variable: FireplaceQuN         Importance: 0.0030397204064336767\n",
      "Variable: BsmtExposureN        Importance: 0.0027174488622661017\n",
      "Variable: AbvGr                Importance: 0.0019738283367149315\n",
      "Variable: BsmtBath             Importance: 0.00187041581462602\n",
      "Variable: MSZoningN            Importance: 0.0015777587755394827\n",
      "Variable: Fireplaces           Importance: 0.0013739063123598654\n",
      "Variable: HeatingQCN           Importance: 0.0013400379328573386\n",
      "Variable: GarageQualN          Importance: 0.0011734787392180001\n",
      "Variable: SaleConditionN       Importance: 0.0011694450826788593\n",
      "Variable: EnclosedPorch        Importance: 0.0009760936710701548\n",
      "Variable: SaleTypeN            Importance: 0.0008666144890042396\n",
      "Variable: HouseStyleN          Importance: 0.0006271157023310226\n",
      "Variable: BsmtSF2              Importance: 0.0005349727148110184\n"
     ]
    }
   ],
   "source": [
    "feature_list = list(X_train.columns)\n",
    "\n",
    "importances = list(hz_model.feature_importances_)\n",
    "importances\n",
    "feature_importances = [(feature, importance) for feature, importance in zip(feature_list, importances)]\n",
    "# Sort the feature importances by most important first\n",
    "feature_importances = sorted(feature_importances, key = lambda x: x[1], reverse = True)\n",
    "# Print out the feature and importances \n",
    "[print('Variable: {:20} Importance: {}'.format(*pair)) for pair in feature_importances];"
   ]
  },
  {
   "cell_type": "code",
   "execution_count": null,
   "metadata": {},
   "outputs": [],
   "source": []
  },
  {
   "cell_type": "code",
   "execution_count": null,
   "metadata": {},
   "outputs": [],
   "source": []
  },
  {
   "cell_type": "code",
   "execution_count": 5132,
   "metadata": {},
   "outputs": [
    {
     "name": "stdout",
     "output_type": "stream",
     "text": [
      "15124.531544306506\n"
     ]
    }
   ],
   "source": [
    "#xgboost model \n",
    "import xgboost\n",
    "\n",
    "xgb = xgboost.XGBRegressor(n_estimators=100, learning_rate=0.08, gamma=0, subsample=0.75,\\\n",
    "                           colsample_bytree=1, max_depth=7)\n",
    "train_X, val_X, train_y, val_y = train_test_split(X_train,Y_train,random_state = 0,test_size=0.3)\n",
    "hz_model=xgb.fit(train_X,train_y)\n",
    "Y_pred = hz_model.predict(val_X)\n",
    "print(mean_absolute_error((val_y),(Y_pred)))\n",
    "\n",
    "#Y_pred = hz_model.predict(Xtest)"
   ]
  },
  {
   "cell_type": "code",
   "execution_count": null,
   "metadata": {},
   "outputs": [],
   "source": []
  },
  {
   "cell_type": "code",
   "execution_count": 5133,
   "metadata": {},
   "outputs": [
    {
     "data": {
      "image/png": "[encoded data removed]",
      "text/plain": [
       "<Figure size 432x288 with 1 Axes>"
      ]
     },
     "metadata": {},
     "output_type": "display_data"
    }
   ],
   "source": [
    "import matplotlib.pyplot as plt\n",
    "fig, ax = plt.subplots()\n",
    "#ax.scatter(np.e**(val_y), np.e**(Y_pred), edgecolors=(0, 0, 0))\n",
    "ax.scatter((val_y), (Y_pred), edgecolors=(0, 0, 0))\n",
    "plt.show()"
   ]
  },
  {
   "cell_type": "code",
   "execution_count": 5136,
   "metadata": {},
   "outputs": [],
   "source": [
    "xgb = xgboost.XGBRegressor(n_estimators=200, learning_rate=0.08, gamma=0, subsample=0.75,\\\n",
    "                           colsample_bytree=1, max_depth=7)\n",
    "hz_model=xgb.fit(X_train,Y_train)\n",
    "Y_pred = hz_model.predict(Xtest)"
   ]
  },
  {
   "cell_type": "code",
   "execution_count": 5135,
   "metadata": {},
   "outputs": [
    {
     "data": {
      "image/png": "[encoded data removed]",
      "text/plain": [
       "<Figure size 432x288 with 1 Axes>"
      ]
     },
     "metadata": {},
     "output_type": "display_data"
    }
   ],
   "source": [
    "import numpy as np\n",
    "import matplotlib.pyplot as plt\n",
    "from sklearn.naive_bayes import GaussianNB\n",
    "from sklearn.svm import SVC\n",
    "from sklearn.datasets import load_digits\n",
    "from sklearn.model_selection import learning_curve\n",
    "from sklearn.model_selection import ShuffleSplit\n",
    "\n",
    "\n",
    "def plot_learning_curve(estimator, title, X, y, ylim=None, cv=None,\n",
    "                        n_jobs=10, train_sizes=np.linspace(.1, 1.0, 6)):\n",
    "    \"\"\"\n",
    "    Generate a simple plot of the test and training learning curve.\n",
    "\n",
    "    Parameters\n",
    "    ----------\n",
    "    estimator : object type that implements the \"fit\" and \"predict\" methods\n",
    "        An object of that type which is cloned for each validation.\n",
    "\n",
    "    title : string\n",
    "        Title for the chart.\n",
    "\n",
    "    X : array-like, shape (n_samples, n_features)\n",
    "        Training vector, where n_samples is the number of samples and\n",
    "        n_features is the number of features.\n",
    "\n",
    "    y : array-like, shape (n_samples) or (n_samples, n_features), optional\n",
    "        Target relative to X for classification or regression;\n",
    "        None for unsupervised learning.\n",
    "\n",
    "    ylim : tuple, shape (ymin, ymax), optional\n",
    "        Defines minimum and maximum yvalues plotted.\n",
    "\n",
    "    cv : int, cross-validation generator or an iterable, optional\n",
    "        Determines the cross-validation splitting strategy.\n",
    "        Possible inputs for cv are:\n",
    "          - None, to use the default 3-fold cross-validation,\n",
    "          - integer, to specify the number of folds.\n",
    "          - An object to be used as a cross-validation generator.\n",
    "          - An iterable yielding train/test splits.\n",
    "\n",
    "        For integer/None inputs, if ``y`` is binary or multiclass,\n",
    "        :class:`StratifiedKFold` used. If the estimator is not a classifier\n",
    "        or if ``y`` is neither binary nor multiclass, :class:`KFold` is used.\n",
    "\n",
    "        Refer :ref:`User Guide <cross_validation>` for the various\n",
    "        cross-validators that can be used here.\n",
    "\n",
    "    n_jobs : integer, optional\n",
    "        Number of jobs to run in parallel (default 1).\n",
    "    \"\"\"\n",
    "    plt.figure()\n",
    "    plt.title(title)\n",
    "    if ylim is not None:\n",
    "        plt.ylim(*ylim)\n",
    "    plt.xlabel(\"Training examples\")\n",
    "    plt.ylabel(\"Score\")\n",
    "    train_sizes, train_scores, test_scores = learning_curve(\n",
    "        estimator, X, y, cv=cv, n_jobs=n_jobs, train_sizes=train_sizes)\n",
    "    train_scores_mean = np.mean(train_scores, axis=1)\n",
    "    train_scores_std = np.std(train_scores, axis=1)\n",
    "    test_scores_mean = np.mean(test_scores, axis=1)\n",
    "    test_scores_std = np.std(test_scores, axis=1)\n",
    "    plt.grid()\n",
    "\n",
    "    plt.fill_between(train_sizes, train_scores_mean - train_scores_std,\n",
    "                     train_scores_mean + train_scores_std, alpha=0.1,\n",
    "                     color=\"r\")\n",
    "    plt.fill_between(train_sizes, test_scores_mean - test_scores_std,\n",
    "                     test_scores_mean + test_scores_std, alpha=0.1, color=\"g\")\n",
    "    plt.plot(train_sizes, train_scores_mean, 'o-', color=\"r\",\n",
    "             label=\"Training score\")\n",
    "    plt.plot(train_sizes, test_scores_mean, 'o-', color=\"g\",\n",
    "             label=\"Cross-validation score\")\n",
    "\n",
    "    plt.legend(loc=\"best\")\n",
    "    return plt\n",
    "\n",
    "\n",
    "X, y = X_train, Y_train\n",
    "\n",
    "title = \"Learning Curves (RF)\"\n",
    "# SVC is more expensive so we do a lower number of CV iterations:\n",
    "cv = ShuffleSplit(n_splits=10, test_size=0.2, random_state=0)\n",
    "#estimator = linear_model.LinearRegression()\n",
    "estimator = RandomForestRegressor(n_estimators = 200, random_state = 10)\n",
    "#plot_learning_curve(estimator, title, X, y, cv=cv, n_jobs=10)\n",
    "\n",
    "\n",
    "#cv = ShuffleSplit(n_splits=10, test_size=0.2, random_state=0)\n",
    "#estimator = linear_model.LinearRegression()\n",
    "#estimator = RandomForestRegressor(n_estimators = 100, random_state = 42)\n",
    "#plot_learning_curve(estimator, title, X, y, cv=cv, n_jobs=10)\n",
    "\n",
    "title = \"Learning Curves (XgBoost)\"\n",
    "cv = ShuffleSplit(n_splits=10, test_size=0.2, random_state=0)\n",
    "estimator = xgboost.XGBRegressor(n_estimators=100, learning_rate=0.08, gamma=0.0, subsample=0.75,\\\n",
    "                           colsample_bytree=1, max_depth=7)\n",
    "#estimator = RandomForestRegressor(n_estimators = 200, random_state = 10)\n",
    "plot_learning_curve(estimator, title, X, y, cv=cv, n_jobs=10)\n",
    "\n",
    "#cv = ShuffleSplit(n_splits=10, test_size=0.2, random_state=0)\n",
    "#estimator = svm.LinearSVR()\n",
    "#estimator = RandomForestRegressor(n_estimators = 100, random_state = 42)\n",
    "#plot_learning_curve(estimator, title, X, y, cv=cv, n_jobs=10)\n",
    "\n",
    "plt.show()"
   ]
  },
  {
   "cell_type": "code",
   "execution_count": 5137,
   "metadata": {},
   "outputs": [
    {
     "name": "stdout",
     "output_type": "stream",
     "text": [
      "1459\n"
     ]
    }
   ],
   "source": [
    "#cols=['Id','SalePrice']\n",
    "name=test.Id\n",
    "df=pd.DataFrame(\n",
    "    {'Id': name,\n",
    "     'SalePrice': (Y_pred)\n",
    "    })\n",
    "\n",
    "print(len(df['Id']))\n",
    "df.to_csv('submission.csv', index=False)"
   ]
  },
  {
   "cell_type": "code",
   "execution_count": null,
   "metadata": {},
   "outputs": [],
   "source": []
  }
 ],
 "metadata": {
  "kernelspec": {
   "display_name": "Python 3",
   "language": "python",
   "name": "python3"
  },
  "language_info": {
   "codemirror_mode": {
    "name": "ipython",
    "version": 3
   },
   "file_extension": ".py",
   "mimetype": "text/x-python",
   "name": "python",
   "nbconvert_exporter": "python",
   "pygments_lexer": "ipython3",
   "version": "3.6.5"
  }
 },
 "nbformat": 4,
 "nbformat_minor": 2
}
